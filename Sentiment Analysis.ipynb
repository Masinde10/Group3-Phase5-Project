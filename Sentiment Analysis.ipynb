{
 "cells": [
  {
   "cell_type": "markdown",
   "metadata": {},
   "source": [
    "# Sentiment Analysis Project"
   ]
  },
  {
   "cell_type": "markdown",
   "metadata": {},
   "source": [
    "### Group 3\n",
    "### Members:\n",
    "        Gideon ochieng\n",
    "        Ann Mwangi\n",
    "        Victor Masinde\n",
    "        Lorna Gatimu\n",
    "        Charles Odhiambo\n",
    "### Technical mentor : \n",
    "        Maryann Mwikali"
   ]
  },
  {
   "cell_type": "markdown",
   "metadata": {},
   "source": [
    "## Project Overview\n",
    "Online business platforms like Walmart generate millions of customer reviews daily, influencing purchasing decisions and shaping brand reputations. These reviews offer valuable insights into customer satisfaction, product quality, and service efficiency. Sentiment analysis, a branch of Natural Language Processing (NLP), enables businesses to analyze and interpret customer emotions from text data. By automating this process, companies can enhance customer experience, improve products, and drive sales.\n",
    "\n",
    "## Business Understanding\n",
    "### Real-World Problem\n",
    "With thousands of reviews per product, customers and businesses struggle to extract meaningful insights manually. The challenge lies in identifying positive, negative, or neutral sentiment efficiently. Traditional rating systems (1-5 stars) may not always reflect the true sentiment behind a review, as users may express mixed opinions in text form. A sentiment analysis system can provide a more accurate and automated way of understanding customer feedback, helping businesses enhance their products and services. \n",
    "\n",
    "## Stakeholders\n",
    "This project is valuable to multiple stakeholders, each benefiting in different ways from sentiment analysis of Walmart reviews data.\n",
    "\n",
    "1) E-commerce Businesses & Product Sellers\n",
    "\n",
    "- Gain insights into customer satisfaction and product performance.\n",
    "- Identify recurring complaints and areas for improvement.\n",
    "- Monitor brand reputation and respond to negative feedback effectively.\n",
    "\n",
    "2) Consumers & Online Shoppers\n",
    "- Get data-driven product recommendations based on real customer sentiments.\n",
    "- Make informed purchasing decisions by understanding overall product sentiment.\n",
    "- Avoid misleading star ratings by analyzing actual customer experiences.\n",
    "\n",
    "3) Marketing & Customer Support Teams\n",
    "- Track customer sentiment trends to refine marketing strategies.\n",
    "- Automate review analysis to address complaints and improve customer service.\n",
    "- Identify key influencers and brand advocates from positive reviews."
   ]
  },
  {
   "cell_type": "markdown",
   "metadata": {},
   "source": [
    "## Data Understanding"
   ]
  },
  {
   "cell_type": "code",
   "execution_count": 1,
   "metadata": {},
   "outputs": [
    {
     "name": "stderr",
     "output_type": "stream",
     "text": [
      "[nltk_data] Downloading package stopwords to\n",
      "[nltk_data]     C:\\Users\\hp\\AppData\\Roaming\\nltk_data...\n",
      "[nltk_data]   Unzipping corpora\\stopwords.zip.\n",
      "[nltk_data] Downloading package wordnet to\n",
      "[nltk_data]     C:\\Users\\hp\\AppData\\Roaming\\nltk_data...\n"
     ]
    }
   ],
   "source": [
    "#importing necessary libraries\n",
    "import pandas as pd \n",
    "import re\n",
    "import matplotlib.pyplot as plt\n",
    "import seaborn as sns\n",
    "import nltk\n",
    "nltk.download('stopwords')\n",
    "nltk.download('wordnet')\n",
    "from nltk.corpus import stopwords\n",
    "from nltk.stem import WordNetLemmatizer\n",
    "from collections import Counter\n"
   ]
  },
  {
   "cell_type": "code",
   "execution_count": 2,
   "metadata": {},
   "outputs": [
    {
     "data": {
      "text/html": [
       "<div>\n",
       "<style scoped>\n",
       "    .dataframe tbody tr th:only-of-type {\n",
       "        vertical-align: middle;\n",
       "    }\n",
       "\n",
       "    .dataframe tbody tr th {\n",
       "        vertical-align: top;\n",
       "    }\n",
       "\n",
       "    .dataframe thead th {\n",
       "        text-align: right;\n",
       "    }\n",
       "</style>\n",
       "<table border=\"1\" class=\"dataframe\">\n",
       "  <thead>\n",
       "    <tr style=\"text-align: right;\">\n",
       "      <th></th>\n",
       "      <th>Unnamed: 0</th>\n",
       "      <th>product_name</th>\n",
       "      <th>review_text</th>\n",
       "      <th>product_rating</th>\n",
       "      <th>review_date</th>\n",
       "      <th>avg_rating</th>\n",
       "    </tr>\n",
       "  </thead>\n",
       "  <tbody>\n",
       "    <tr>\n",
       "      <th>0</th>\n",
       "      <td>0</td>\n",
       "      <td>Microsoft Xbox Series S – 1TB White</td>\n",
       "      <td>The series S will set you up to game for years...</td>\n",
       "      <td>5</td>\n",
       "      <td>10/31/2024</td>\n",
       "      <td>4.8</td>\n",
       "    </tr>\n",
       "    <tr>\n",
       "      <th>1</th>\n",
       "      <td>1</td>\n",
       "      <td>Microsoft Xbox Series S – 1TB White</td>\n",
       "      <td>Ordered Xbox series S, received a PS5 controll...</td>\n",
       "      <td>5</td>\n",
       "      <td>12/17/2024</td>\n",
       "      <td>4.8</td>\n",
       "    </tr>\n",
       "    <tr>\n",
       "      <th>2</th>\n",
       "      <td>2</td>\n",
       "      <td>Microsoft Xbox Series S – 1TB White</td>\n",
       "      <td>This product is absolutely amazing, the loadin...</td>\n",
       "      <td>5</td>\n",
       "      <td>2/1/2025</td>\n",
       "      <td>4.8</td>\n",
       "    </tr>\n",
       "    <tr>\n",
       "      <th>3</th>\n",
       "      <td>3</td>\n",
       "      <td>Microsoft Xbox Series S – 1TB White</td>\n",
       "      <td>This console works fantastic. I was easily abl...</td>\n",
       "      <td>5</td>\n",
       "      <td>11/1/2024</td>\n",
       "      <td>4.8</td>\n",
       "    </tr>\n",
       "    <tr>\n",
       "      <th>4</th>\n",
       "      <td>4</td>\n",
       "      <td>Microsoft Xbox Series S – 1TB White</td>\n",
       "      <td>This product was the least expensive from the ...</td>\n",
       "      <td>5</td>\n",
       "      <td>12/11/2024</td>\n",
       "      <td>4.8</td>\n",
       "    </tr>\n",
       "  </tbody>\n",
       "</table>\n",
       "</div>"
      ],
      "text/plain": [
       "   Unnamed: 0                         product_name  \\\n",
       "0           0  Microsoft Xbox Series S – 1TB White   \n",
       "1           1  Microsoft Xbox Series S – 1TB White   \n",
       "2           2  Microsoft Xbox Series S – 1TB White   \n",
       "3           3  Microsoft Xbox Series S – 1TB White   \n",
       "4           4  Microsoft Xbox Series S – 1TB White   \n",
       "\n",
       "                                         review_text  product_rating  \\\n",
       "0  The series S will set you up to game for years...               5   \n",
       "1  Ordered Xbox series S, received a PS5 controll...               5   \n",
       "2  This product is absolutely amazing, the loadin...               5   \n",
       "3  This console works fantastic. I was easily abl...               5   \n",
       "4  This product was the least expensive from the ...               5   \n",
       "\n",
       "  review_date  avg_rating  \n",
       "0  10/31/2024         4.8  \n",
       "1  12/17/2024         4.8  \n",
       "2    2/1/2025         4.8  \n",
       "3   11/1/2024         4.8  \n",
       "4  12/11/2024         4.8  "
      ]
     },
     "execution_count": 2,
     "metadata": {},
     "output_type": "execute_result"
    }
   ],
   "source": [
    "# function to load all the reviews into a pandas dataframe\n",
    "def load_reviews(Data):\n",
    "    return pd.read_csv(Data)\n",
    "# function to merge all reviews to one dataframe\n",
    "def merge_reviews(review_files):\n",
    "    reviews=pd.concat([load_reviews(file) for file in review_files], ignore_index=True)\n",
    "    return reviews\n",
    "\n",
    "review_files=['Data/computer_reviews.csv','Data/Fridge_reviews.csv','Data/hoodie_reviews.csv','Data/parfum_reviews.csv','Data/Playstation_reviews.csv','Data/shoes_reviews.csv','Data/toy_reviews.csv','Data/Water_reviews.csv','Data/Xbox_reviews.csv']\n",
    "\n",
    "#merging the listed reviews data\n",
    "df=merge_reviews(review_files)\n",
    "df.head()"
   ]
  },
  {
   "cell_type": "code",
   "execution_count": 3,
   "metadata": {},
   "outputs": [
    {
     "data": {
      "text/html": [
       "<div>\n",
       "<style scoped>\n",
       "    .dataframe tbody tr th:only-of-type {\n",
       "        vertical-align: middle;\n",
       "    }\n",
       "\n",
       "    .dataframe tbody tr th {\n",
       "        vertical-align: top;\n",
       "    }\n",
       "\n",
       "    .dataframe thead th {\n",
       "        text-align: right;\n",
       "    }\n",
       "</style>\n",
       "<table border=\"1\" class=\"dataframe\">\n",
       "  <thead>\n",
       "    <tr style=\"text-align: right;\">\n",
       "      <th></th>\n",
       "      <th>Unnamed: 0</th>\n",
       "      <th>product_name</th>\n",
       "      <th>review_text</th>\n",
       "      <th>product_rating</th>\n",
       "      <th>review_date</th>\n",
       "      <th>avg_rating</th>\n",
       "    </tr>\n",
       "  </thead>\n",
       "  <tbody>\n",
       "    <tr>\n",
       "      <th>0</th>\n",
       "      <td>0</td>\n",
       "      <td>Microsoft Xbox Series S – 1TB White</td>\n",
       "      <td>The series S will set you up to game for years...</td>\n",
       "      <td>5</td>\n",
       "      <td>10/31/2024</td>\n",
       "      <td>4.8</td>\n",
       "    </tr>\n",
       "    <tr>\n",
       "      <th>1</th>\n",
       "      <td>1</td>\n",
       "      <td>Microsoft Xbox Series S – 1TB White</td>\n",
       "      <td>Ordered Xbox series S, received a PS5 controll...</td>\n",
       "      <td>5</td>\n",
       "      <td>12/17/2024</td>\n",
       "      <td>4.8</td>\n",
       "    </tr>\n",
       "    <tr>\n",
       "      <th>2</th>\n",
       "      <td>2</td>\n",
       "      <td>Microsoft Xbox Series S – 1TB White</td>\n",
       "      <td>This product is absolutely amazing, the loadin...</td>\n",
       "      <td>5</td>\n",
       "      <td>2/1/2025</td>\n",
       "      <td>4.8</td>\n",
       "    </tr>\n",
       "    <tr>\n",
       "      <th>3</th>\n",
       "      <td>3</td>\n",
       "      <td>Microsoft Xbox Series S – 1TB White</td>\n",
       "      <td>This console works fantastic. I was easily abl...</td>\n",
       "      <td>5</td>\n",
       "      <td>11/1/2024</td>\n",
       "      <td>4.8</td>\n",
       "    </tr>\n",
       "    <tr>\n",
       "      <th>4</th>\n",
       "      <td>4</td>\n",
       "      <td>Microsoft Xbox Series S – 1TB White</td>\n",
       "      <td>This product was the least expensive from the ...</td>\n",
       "      <td>5</td>\n",
       "      <td>12/11/2024</td>\n",
       "      <td>4.8</td>\n",
       "    </tr>\n",
       "  </tbody>\n",
       "</table>\n",
       "</div>"
      ],
      "text/plain": [
       "   Unnamed: 0                         product_name  \\\n",
       "0           0  Microsoft Xbox Series S – 1TB White   \n",
       "1           1  Microsoft Xbox Series S – 1TB White   \n",
       "2           2  Microsoft Xbox Series S – 1TB White   \n",
       "3           3  Microsoft Xbox Series S – 1TB White   \n",
       "4           4  Microsoft Xbox Series S – 1TB White   \n",
       "\n",
       "                                         review_text  product_rating  \\\n",
       "0  The series S will set you up to game for years...               5   \n",
       "1  Ordered Xbox series S, received a PS5 controll...               5   \n",
       "2  This product is absolutely amazing, the loadin...               5   \n",
       "3  This console works fantastic. I was easily abl...               5   \n",
       "4  This product was the least expensive from the ...               5   \n",
       "\n",
       "  review_date  avg_rating  \n",
       "0  10/31/2024         4.8  \n",
       "1  12/17/2024         4.8  \n",
       "2    2/1/2025         4.8  \n",
       "3   11/1/2024         4.8  \n",
       "4  12/11/2024         4.8  "
      ]
     },
     "execution_count": 3,
     "metadata": {},
     "output_type": "execute_result"
    }
   ],
   "source": [
    "# the first few data\n",
    "df.head()"
   ]
  },
  {
   "cell_type": "code",
   "execution_count": 4,
   "metadata": {},
   "outputs": [
    {
     "name": "stdout",
     "output_type": "stream",
     "text": [
      "<class 'pandas.core.frame.DataFrame'>\n",
      "RangeIndex: 7095 entries, 0 to 7094\n",
      "Data columns (total 6 columns):\n",
      " #   Column          Non-Null Count  Dtype  \n",
      "---  ------          --------------  -----  \n",
      " 0   Unnamed: 0      7095 non-null   int64  \n",
      " 1   product_name    7095 non-null   object \n",
      " 2   review_text     7069 non-null   object \n",
      " 3   product_rating  7095 non-null   int64  \n",
      " 4   review_date     7095 non-null   object \n",
      " 5   avg_rating      7095 non-null   float64\n",
      "dtypes: float64(1), int64(2), object(3)\n",
      "memory usage: 332.7+ KB\n"
     ]
    }
   ],
   "source": [
    "#Structure of the dataframe\n",
    "df.info()"
   ]
  },
  {
   "cell_type": "code",
   "execution_count": 5,
   "metadata": {},
   "outputs": [
    {
     "data": {
      "text/html": [
       "<div>\n",
       "<style scoped>\n",
       "    .dataframe tbody tr th:only-of-type {\n",
       "        vertical-align: middle;\n",
       "    }\n",
       "\n",
       "    .dataframe tbody tr th {\n",
       "        vertical-align: top;\n",
       "    }\n",
       "\n",
       "    .dataframe thead th {\n",
       "        text-align: right;\n",
       "    }\n",
       "</style>\n",
       "<table border=\"1\" class=\"dataframe\">\n",
       "  <thead>\n",
       "    <tr style=\"text-align: right;\">\n",
       "      <th></th>\n",
       "      <th>Unnamed: 0</th>\n",
       "      <th>product_rating</th>\n",
       "      <th>avg_rating</th>\n",
       "    </tr>\n",
       "  </thead>\n",
       "  <tbody>\n",
       "    <tr>\n",
       "      <th>count</th>\n",
       "      <td>7095.000000</td>\n",
       "      <td>7095.000000</td>\n",
       "      <td>7095.000000</td>\n",
       "    </tr>\n",
       "    <tr>\n",
       "      <th>mean</th>\n",
       "      <td>446.683016</td>\n",
       "      <td>3.547710</td>\n",
       "      <td>4.244355</td>\n",
       "    </tr>\n",
       "    <tr>\n",
       "      <th>std</th>\n",
       "      <td>309.009040</td>\n",
       "      <td>1.724285</td>\n",
       "      <td>0.612714</td>\n",
       "    </tr>\n",
       "    <tr>\n",
       "      <th>min</th>\n",
       "      <td>0.000000</td>\n",
       "      <td>1.000000</td>\n",
       "      <td>1.000000</td>\n",
       "    </tr>\n",
       "    <tr>\n",
       "      <th>25%</th>\n",
       "      <td>197.000000</td>\n",
       "      <td>1.000000</td>\n",
       "      <td>4.000000</td>\n",
       "    </tr>\n",
       "    <tr>\n",
       "      <th>50%</th>\n",
       "      <td>397.000000</td>\n",
       "      <td>5.000000</td>\n",
       "      <td>4.500000</td>\n",
       "    </tr>\n",
       "    <tr>\n",
       "      <th>75%</th>\n",
       "      <td>645.000000</td>\n",
       "      <td>5.000000</td>\n",
       "      <td>4.700000</td>\n",
       "    </tr>\n",
       "    <tr>\n",
       "      <th>max</th>\n",
       "      <td>1373.000000</td>\n",
       "      <td>5.000000</td>\n",
       "      <td>5.000000</td>\n",
       "    </tr>\n",
       "  </tbody>\n",
       "</table>\n",
       "</div>"
      ],
      "text/plain": [
       "        Unnamed: 0  product_rating   avg_rating\n",
       "count  7095.000000     7095.000000  7095.000000\n",
       "mean    446.683016        3.547710     4.244355\n",
       "std     309.009040        1.724285     0.612714\n",
       "min       0.000000        1.000000     1.000000\n",
       "25%     197.000000        1.000000     4.000000\n",
       "50%     397.000000        5.000000     4.500000\n",
       "75%     645.000000        5.000000     4.700000\n",
       "max    1373.000000        5.000000     5.000000"
      ]
     },
     "execution_count": 5,
     "metadata": {},
     "output_type": "execute_result"
    }
   ],
   "source": [
    "#numerical columns statistics\n",
    "df.describe()"
   ]
  },
  {
   "cell_type": "code",
   "execution_count": 6,
   "metadata": {},
   "outputs": [
    {
     "data": {
      "text/plain": [
       "Unnamed: 0          int64\n",
       "product_name       object\n",
       "review_text        object\n",
       "product_rating      int64\n",
       "review_date        object\n",
       "avg_rating        float64\n",
       "dtype: object"
      ]
     },
     "execution_count": 6,
     "metadata": {},
     "output_type": "execute_result"
    }
   ],
   "source": [
    "#datatypes of the columns\n",
    "df.dtypes "
   ]
  },
  {
   "cell_type": "code",
   "execution_count": 7,
   "metadata": {},
   "outputs": [
    {
     "data": {
      "text/plain": [
       "Unnamed: 0        1374\n",
       "product_name       683\n",
       "review_text       5662\n",
       "product_rating       5\n",
       "review_date        945\n",
       "avg_rating         157\n",
       "dtype: int64"
      ]
     },
     "execution_count": 7,
     "metadata": {},
     "output_type": "execute_result"
    }
   ],
   "source": [
    "#number of unique values in each column\n",
    "df.nunique() "
   ]
  },
  {
   "cell_type": "code",
   "execution_count": 8,
   "metadata": {},
   "outputs": [
    {
     "data": {
      "text/plain": [
       "7069"
      ]
     },
     "execution_count": 8,
     "metadata": {},
     "output_type": "execute_result"
    }
   ],
   "source": [
    "# Value counts for the reviews column\n",
    "df['review_text'].value_counts().sum()\n"
   ]
  },
  {
   "cell_type": "code",
   "execution_count": 9,
   "metadata": {},
   "outputs": [
    {
     "data": {
      "text/html": [
       "<div>\n",
       "<style scoped>\n",
       "    .dataframe tbody tr th:only-of-type {\n",
       "        vertical-align: middle;\n",
       "    }\n",
       "\n",
       "    .dataframe tbody tr th {\n",
       "        vertical-align: top;\n",
       "    }\n",
       "\n",
       "    .dataframe thead th {\n",
       "        text-align: right;\n",
       "    }\n",
       "</style>\n",
       "<table border=\"1\" class=\"dataframe\">\n",
       "  <thead>\n",
       "    <tr style=\"text-align: right;\">\n",
       "      <th></th>\n",
       "      <th>Unnamed: 0</th>\n",
       "      <th>product_rating</th>\n",
       "      <th>avg_rating</th>\n",
       "    </tr>\n",
       "  </thead>\n",
       "  <tbody>\n",
       "    <tr>\n",
       "      <th>Unnamed: 0</th>\n",
       "      <td>1.000000</td>\n",
       "      <td>0.006472</td>\n",
       "      <td>-0.204858</td>\n",
       "    </tr>\n",
       "    <tr>\n",
       "      <th>product_rating</th>\n",
       "      <td>0.006472</td>\n",
       "      <td>1.000000</td>\n",
       "      <td>0.357765</td>\n",
       "    </tr>\n",
       "    <tr>\n",
       "      <th>avg_rating</th>\n",
       "      <td>-0.204858</td>\n",
       "      <td>0.357765</td>\n",
       "      <td>1.000000</td>\n",
       "    </tr>\n",
       "  </tbody>\n",
       "</table>\n",
       "</div>"
      ],
      "text/plain": [
       "                Unnamed: 0  product_rating  avg_rating\n",
       "Unnamed: 0        1.000000        0.006472   -0.204858\n",
       "product_rating    0.006472        1.000000    0.357765\n",
       "avg_rating       -0.204858        0.357765    1.000000"
      ]
     },
     "execution_count": 9,
     "metadata": {},
     "output_type": "execute_result"
    }
   ],
   "source": [
    "#correlation matrix\n",
    "df.corr()"
   ]
  },
  {
   "cell_type": "code",
   "execution_count": 10,
   "metadata": {},
   "outputs": [
    {
     "data": {
      "text/plain": [
       "(7095, 6)"
      ]
     },
     "execution_count": 10,
     "metadata": {},
     "output_type": "execute_result"
    }
   ],
   "source": [
    "#rows and columns of the dataset\n",
    "df.shape\n"
   ]
  },
  {
   "cell_type": "markdown",
   "metadata": {},
   "source": [
    "## Data Cleaning"
   ]
  },
  {
   "cell_type": "code",
   "execution_count": 11,
   "metadata": {},
   "outputs": [
    {
     "data": {
      "text/plain": [
       "Unnamed: 0         0\n",
       "product_name       0\n",
       "review_text       26\n",
       "product_rating     0\n",
       "review_date        0\n",
       "avg_rating         0\n",
       "dtype: int64"
      ]
     },
     "execution_count": 11,
     "metadata": {},
     "output_type": "execute_result"
    }
   ],
   "source": [
    "# checking for missing values\n",
    "df.isnull().sum()"
   ]
  },
  {
   "cell_type": "code",
   "execution_count": 12,
   "metadata": {},
   "outputs": [
    {
     "data": {
      "text/plain": [
       "Unnamed: 0        0\n",
       "product_name      0\n",
       "review_text       0\n",
       "product_rating    0\n",
       "review_date       0\n",
       "avg_rating        0\n",
       "dtype: int64"
      ]
     },
     "execution_count": 12,
     "metadata": {},
     "output_type": "execute_result"
    }
   ],
   "source": [
    "#remove rows with missing text\n",
    "df=df.dropna(subset=['review_text'])\n",
    "df.isnull().sum()"
   ]
  },
  {
   "cell_type": "code",
   "execution_count": 13,
   "metadata": {},
   "outputs": [
    {
     "data": {
      "text/html": [
       "<div>\n",
       "<style scoped>\n",
       "    .dataframe tbody tr th:only-of-type {\n",
       "        vertical-align: middle;\n",
       "    }\n",
       "\n",
       "    .dataframe tbody tr th {\n",
       "        vertical-align: top;\n",
       "    }\n",
       "\n",
       "    .dataframe thead th {\n",
       "        text-align: right;\n",
       "    }\n",
       "</style>\n",
       "<table border=\"1\" class=\"dataframe\">\n",
       "  <thead>\n",
       "    <tr style=\"text-align: right;\">\n",
       "      <th></th>\n",
       "      <th>product_name</th>\n",
       "      <th>review_text</th>\n",
       "      <th>product_rating</th>\n",
       "      <th>review_date</th>\n",
       "      <th>avg_rating</th>\n",
       "    </tr>\n",
       "  </thead>\n",
       "  <tbody>\n",
       "    <tr>\n",
       "      <th>0</th>\n",
       "      <td>Microsoft Xbox Series S – 1TB White</td>\n",
       "      <td>The series S will set you up to game for years...</td>\n",
       "      <td>5</td>\n",
       "      <td>10/31/2024</td>\n",
       "      <td>4.8</td>\n",
       "    </tr>\n",
       "    <tr>\n",
       "      <th>1</th>\n",
       "      <td>Microsoft Xbox Series S – 1TB White</td>\n",
       "      <td>Ordered Xbox series S, received a PS5 controll...</td>\n",
       "      <td>5</td>\n",
       "      <td>12/17/2024</td>\n",
       "      <td>4.8</td>\n",
       "    </tr>\n",
       "    <tr>\n",
       "      <th>2</th>\n",
       "      <td>Microsoft Xbox Series S – 1TB White</td>\n",
       "      <td>This product is absolutely amazing, the loadin...</td>\n",
       "      <td>5</td>\n",
       "      <td>2/1/2025</td>\n",
       "      <td>4.8</td>\n",
       "    </tr>\n",
       "    <tr>\n",
       "      <th>3</th>\n",
       "      <td>Microsoft Xbox Series S – 1TB White</td>\n",
       "      <td>This console works fantastic. I was easily abl...</td>\n",
       "      <td>5</td>\n",
       "      <td>11/1/2024</td>\n",
       "      <td>4.8</td>\n",
       "    </tr>\n",
       "    <tr>\n",
       "      <th>4</th>\n",
       "      <td>Microsoft Xbox Series S – 1TB White</td>\n",
       "      <td>This product was the least expensive from the ...</td>\n",
       "      <td>5</td>\n",
       "      <td>12/11/2024</td>\n",
       "      <td>4.8</td>\n",
       "    </tr>\n",
       "  </tbody>\n",
       "</table>\n",
       "</div>"
      ],
      "text/plain": [
       "                          product_name  \\\n",
       "0  Microsoft Xbox Series S – 1TB White   \n",
       "1  Microsoft Xbox Series S – 1TB White   \n",
       "2  Microsoft Xbox Series S – 1TB White   \n",
       "3  Microsoft Xbox Series S – 1TB White   \n",
       "4  Microsoft Xbox Series S – 1TB White   \n",
       "\n",
       "                                         review_text  product_rating  \\\n",
       "0  The series S will set you up to game for years...               5   \n",
       "1  Ordered Xbox series S, received a PS5 controll...               5   \n",
       "2  This product is absolutely amazing, the loadin...               5   \n",
       "3  This console works fantastic. I was easily abl...               5   \n",
       "4  This product was the least expensive from the ...               5   \n",
       "\n",
       "  review_date  avg_rating  \n",
       "0  10/31/2024         4.8  \n",
       "1  12/17/2024         4.8  \n",
       "2    2/1/2025         4.8  \n",
       "3   11/1/2024         4.8  \n",
       "4  12/11/2024         4.8  "
      ]
     },
     "execution_count": 13,
     "metadata": {},
     "output_type": "execute_result"
    }
   ],
   "source": [
    "# dropping the unamed column as it is unnecessary\n",
    "df =df.drop(columns=['Unnamed: 0'])\n",
    "df.head()"
   ]
  },
  {
   "cell_type": "code",
   "execution_count": 14,
   "metadata": {},
   "outputs": [],
   "source": [
    "# Convert 'review_date' to datetime format\n",
    "df['review_date'] = pd.to_datetime(df['review_date'])\n"
   ]
  },
  {
   "cell_type": "code",
   "execution_count": 15,
   "metadata": {},
   "outputs": [
    {
     "name": "stdout",
     "output_type": "stream",
     "text": [
      "<class 'pandas.core.frame.DataFrame'>\n",
      "Int64Index: 7069 entries, 0 to 7094\n",
      "Data columns (total 5 columns):\n",
      " #   Column          Non-Null Count  Dtype         \n",
      "---  ------          --------------  -----         \n",
      " 0   product_name    7069 non-null   object        \n",
      " 1   review_text     7069 non-null   object        \n",
      " 2   product_rating  7069 non-null   int64         \n",
      " 3   review_date     7069 non-null   datetime64[ns]\n",
      " 4   avg_rating      7069 non-null   float64       \n",
      "dtypes: datetime64[ns](1), float64(1), int64(1), object(2)\n",
      "memory usage: 331.4+ KB\n"
     ]
    }
   ],
   "source": [
    "df.info() #Structure of the data"
   ]
  },
  {
   "cell_type": "code",
   "execution_count": 16,
   "metadata": {},
   "outputs": [
    {
     "data": {
      "text/plain": [
       "1267"
      ]
     },
     "execution_count": 16,
     "metadata": {},
     "output_type": "execute_result"
    }
   ],
   "source": [
    "# checking for duplicates\n",
    "df.duplicated().sum()"
   ]
  },
  {
   "cell_type": "code",
   "execution_count": 17,
   "metadata": {},
   "outputs": [],
   "source": [
    "#remove duplicates\n",
    "df=df.drop_duplicates()"
   ]
  },
  {
   "cell_type": "code",
   "execution_count": 18,
   "metadata": {},
   "outputs": [],
   "source": [
    "# defining a function to clean raw text\n",
    "def clean_text(text):\n",
    "\n",
    "  # removing html tags \n",
    "  text = re.sub(r'<.*?>', '', text)\n",
    "\n",
    "  # remove urls\n",
    "  text = re.sub(r'http\\s+|www\\S+', '', text)\n",
    "\n",
    "  # removing non_alphabetic characters and converting to lowercase\n",
    "\n",
    "  text= re.sub(r'[^a-zA_Z\\s]', '', text.lower())\n",
    "\n",
    "  return text"
   ]
  },
  {
   "cell_type": "code",
   "execution_count": 19,
   "metadata": {},
   "outputs": [
    {
     "data": {
      "text/html": [
       "<div>\n",
       "<style scoped>\n",
       "    .dataframe tbody tr th:only-of-type {\n",
       "        vertical-align: middle;\n",
       "    }\n",
       "\n",
       "    .dataframe tbody tr th {\n",
       "        vertical-align: top;\n",
       "    }\n",
       "\n",
       "    .dataframe thead th {\n",
       "        text-align: right;\n",
       "    }\n",
       "</style>\n",
       "<table border=\"1\" class=\"dataframe\">\n",
       "  <thead>\n",
       "    <tr style=\"text-align: right;\">\n",
       "      <th></th>\n",
       "      <th>product_name</th>\n",
       "      <th>review_text</th>\n",
       "      <th>product_rating</th>\n",
       "      <th>review_date</th>\n",
       "      <th>avg_rating</th>\n",
       "    </tr>\n",
       "  </thead>\n",
       "  <tbody>\n",
       "    <tr>\n",
       "      <th>0</th>\n",
       "      <td>Microsoft Xbox Series S – 1TB White</td>\n",
       "      <td>the series s will set you up to game for years...</td>\n",
       "      <td>5</td>\n",
       "      <td>2024-10-31</td>\n",
       "      <td>4.8</td>\n",
       "    </tr>\n",
       "    <tr>\n",
       "      <th>1</th>\n",
       "      <td>Microsoft Xbox Series S – 1TB White</td>\n",
       "      <td>ordered xbox series s received a ps controller...</td>\n",
       "      <td>5</td>\n",
       "      <td>2024-12-17</td>\n",
       "      <td>4.8</td>\n",
       "    </tr>\n",
       "    <tr>\n",
       "      <th>2</th>\n",
       "      <td>Microsoft Xbox Series S – 1TB White</td>\n",
       "      <td>this product is absolutely amazing the loading...</td>\n",
       "      <td>5</td>\n",
       "      <td>2025-02-01</td>\n",
       "      <td>4.8</td>\n",
       "    </tr>\n",
       "    <tr>\n",
       "      <th>3</th>\n",
       "      <td>Microsoft Xbox Series S – 1TB White</td>\n",
       "      <td>this console works fantastic i was easily able...</td>\n",
       "      <td>5</td>\n",
       "      <td>2024-11-01</td>\n",
       "      <td>4.8</td>\n",
       "    </tr>\n",
       "    <tr>\n",
       "      <th>4</th>\n",
       "      <td>Microsoft Xbox Series S – 1TB White</td>\n",
       "      <td>this product was the least expensive from the ...</td>\n",
       "      <td>5</td>\n",
       "      <td>2024-12-11</td>\n",
       "      <td>4.8</td>\n",
       "    </tr>\n",
       "  </tbody>\n",
       "</table>\n",
       "</div>"
      ],
      "text/plain": [
       "                          product_name  \\\n",
       "0  Microsoft Xbox Series S – 1TB White   \n",
       "1  Microsoft Xbox Series S – 1TB White   \n",
       "2  Microsoft Xbox Series S – 1TB White   \n",
       "3  Microsoft Xbox Series S – 1TB White   \n",
       "4  Microsoft Xbox Series S – 1TB White   \n",
       "\n",
       "                                         review_text  product_rating  \\\n",
       "0  the series s will set you up to game for years...               5   \n",
       "1  ordered xbox series s received a ps controller...               5   \n",
       "2  this product is absolutely amazing the loading...               5   \n",
       "3  this console works fantastic i was easily able...               5   \n",
       "4  this product was the least expensive from the ...               5   \n",
       "\n",
       "  review_date  avg_rating  \n",
       "0  2024-10-31         4.8  \n",
       "1  2024-12-17         4.8  \n",
       "2  2025-02-01         4.8  \n",
       "3  2024-11-01         4.8  \n",
       "4  2024-12-11         4.8  "
      ]
     },
     "execution_count": 19,
     "metadata": {},
     "output_type": "execute_result"
    }
   ],
   "source": [
    "# Apply the clean_text function to each value in the 'review_text' column\n",
    "df['review_text']=df['review_text'].apply(clean_text)#applying the clean text function\n",
    "df.head()"
   ]
  },
  {
   "cell_type": "markdown",
   "metadata": {},
   "source": [
    "### Exploratory Data Analysis"
   ]
  },
  {
   "cell_type": "code",
   "execution_count": 20,
   "metadata": {},
   "outputs": [
    {
     "data": {
      "text/html": [
       "<div>\n",
       "<style scoped>\n",
       "    .dataframe tbody tr th:only-of-type {\n",
       "        vertical-align: middle;\n",
       "    }\n",
       "\n",
       "    .dataframe tbody tr th {\n",
       "        vertical-align: top;\n",
       "    }\n",
       "\n",
       "    .dataframe thead th {\n",
       "        text-align: right;\n",
       "    }\n",
       "</style>\n",
       "<table border=\"1\" class=\"dataframe\">\n",
       "  <thead>\n",
       "    <tr style=\"text-align: right;\">\n",
       "      <th></th>\n",
       "      <th>product_name</th>\n",
       "      <th>review_text</th>\n",
       "      <th>product_rating</th>\n",
       "      <th>review_date</th>\n",
       "      <th>avg_rating</th>\n",
       "    </tr>\n",
       "  </thead>\n",
       "  <tbody>\n",
       "    <tr>\n",
       "      <th>0</th>\n",
       "      <td>Microsoft Xbox Series S – 1TB White</td>\n",
       "      <td>the series s will set you up to game for years...</td>\n",
       "      <td>5</td>\n",
       "      <td>2024-10-31</td>\n",
       "      <td>4.8</td>\n",
       "    </tr>\n",
       "    <tr>\n",
       "      <th>1</th>\n",
       "      <td>Microsoft Xbox Series S – 1TB White</td>\n",
       "      <td>ordered xbox series s received a ps controller...</td>\n",
       "      <td>5</td>\n",
       "      <td>2024-12-17</td>\n",
       "      <td>4.8</td>\n",
       "    </tr>\n",
       "    <tr>\n",
       "      <th>2</th>\n",
       "      <td>Microsoft Xbox Series S – 1TB White</td>\n",
       "      <td>this product is absolutely amazing the loading...</td>\n",
       "      <td>5</td>\n",
       "      <td>2025-02-01</td>\n",
       "      <td>4.8</td>\n",
       "    </tr>\n",
       "    <tr>\n",
       "      <th>3</th>\n",
       "      <td>Microsoft Xbox Series S – 1TB White</td>\n",
       "      <td>this console works fantastic i was easily able...</td>\n",
       "      <td>5</td>\n",
       "      <td>2024-11-01</td>\n",
       "      <td>4.8</td>\n",
       "    </tr>\n",
       "    <tr>\n",
       "      <th>4</th>\n",
       "      <td>Microsoft Xbox Series S – 1TB White</td>\n",
       "      <td>this product was the least expensive from the ...</td>\n",
       "      <td>5</td>\n",
       "      <td>2024-12-11</td>\n",
       "      <td>4.8</td>\n",
       "    </tr>\n",
       "  </tbody>\n",
       "</table>\n",
       "</div>"
      ],
      "text/plain": [
       "                          product_name  \\\n",
       "0  Microsoft Xbox Series S – 1TB White   \n",
       "1  Microsoft Xbox Series S – 1TB White   \n",
       "2  Microsoft Xbox Series S – 1TB White   \n",
       "3  Microsoft Xbox Series S – 1TB White   \n",
       "4  Microsoft Xbox Series S – 1TB White   \n",
       "\n",
       "                                         review_text  product_rating  \\\n",
       "0  the series s will set you up to game for years...               5   \n",
       "1  ordered xbox series s received a ps controller...               5   \n",
       "2  this product is absolutely amazing the loading...               5   \n",
       "3  this console works fantastic i was easily able...               5   \n",
       "4  this product was the least expensive from the ...               5   \n",
       "\n",
       "  review_date  avg_rating  \n",
       "0  2024-10-31         4.8  \n",
       "1  2024-12-17         4.8  \n",
       "2  2025-02-01         4.8  \n",
       "3  2024-11-01         4.8  \n",
       "4  2024-12-11         4.8  "
      ]
     },
     "execution_count": 20,
     "metadata": {},
     "output_type": "execute_result"
    }
   ],
   "source": [
    "# Display the first 5 rows of the DataFrame \n",
    "df.head()"
   ]
  },
  {
   "cell_type": "code",
   "execution_count": 21,
   "metadata": {},
   "outputs": [],
   "source": [
    "# Drop duplicates\n",
    "df.drop_duplicates(inplace=True)"
   ]
  },
  {
   "cell_type": "code",
   "execution_count": 22,
   "metadata": {},
   "outputs": [
    {
     "data": {
      "text/html": [
       "<div>\n",
       "<style scoped>\n",
       "    .dataframe tbody tr th:only-of-type {\n",
       "        vertical-align: middle;\n",
       "    }\n",
       "\n",
       "    .dataframe tbody tr th {\n",
       "        vertical-align: top;\n",
       "    }\n",
       "\n",
       "    .dataframe thead th {\n",
       "        text-align: right;\n",
       "    }\n",
       "</style>\n",
       "<table border=\"1\" class=\"dataframe\">\n",
       "  <thead>\n",
       "    <tr style=\"text-align: right;\">\n",
       "      <th></th>\n",
       "      <th>product_name</th>\n",
       "      <th>review_text</th>\n",
       "      <th>product_rating</th>\n",
       "      <th>review_date</th>\n",
       "      <th>avg_rating</th>\n",
       "    </tr>\n",
       "  </thead>\n",
       "  <tbody>\n",
       "    <tr>\n",
       "      <th>0</th>\n",
       "      <td>Microsoft Xbox Series S – 1TB White</td>\n",
       "      <td>the series s will set you up to game for years...</td>\n",
       "      <td>5</td>\n",
       "      <td>2024-10-31</td>\n",
       "      <td>4.8</td>\n",
       "    </tr>\n",
       "    <tr>\n",
       "      <th>1</th>\n",
       "      <td>Microsoft Xbox Series S – 1TB White</td>\n",
       "      <td>ordered xbox series s received a ps controller...</td>\n",
       "      <td>5</td>\n",
       "      <td>2024-12-17</td>\n",
       "      <td>4.8</td>\n",
       "    </tr>\n",
       "    <tr>\n",
       "      <th>2</th>\n",
       "      <td>Microsoft Xbox Series S – 1TB White</td>\n",
       "      <td>this product is absolutely amazing the loading...</td>\n",
       "      <td>5</td>\n",
       "      <td>2025-02-01</td>\n",
       "      <td>4.8</td>\n",
       "    </tr>\n",
       "    <tr>\n",
       "      <th>3</th>\n",
       "      <td>Microsoft Xbox Series S – 1TB White</td>\n",
       "      <td>this console works fantastic i was easily able...</td>\n",
       "      <td>5</td>\n",
       "      <td>2024-11-01</td>\n",
       "      <td>4.8</td>\n",
       "    </tr>\n",
       "    <tr>\n",
       "      <th>4</th>\n",
       "      <td>Microsoft Xbox Series S – 1TB White</td>\n",
       "      <td>this product was the least expensive from the ...</td>\n",
       "      <td>5</td>\n",
       "      <td>2024-12-11</td>\n",
       "      <td>4.8</td>\n",
       "    </tr>\n",
       "  </tbody>\n",
       "</table>\n",
       "</div>"
      ],
      "text/plain": [
       "                          product_name  \\\n",
       "0  Microsoft Xbox Series S – 1TB White   \n",
       "1  Microsoft Xbox Series S – 1TB White   \n",
       "2  Microsoft Xbox Series S – 1TB White   \n",
       "3  Microsoft Xbox Series S – 1TB White   \n",
       "4  Microsoft Xbox Series S – 1TB White   \n",
       "\n",
       "                                         review_text  product_rating  \\\n",
       "0  the series s will set you up to game for years...               5   \n",
       "1  ordered xbox series s received a ps controller...               5   \n",
       "2  this product is absolutely amazing the loading...               5   \n",
       "3  this console works fantastic i was easily able...               5   \n",
       "4  this product was the least expensive from the ...               5   \n",
       "\n",
       "  review_date  avg_rating  \n",
       "0  2024-10-31         4.8  \n",
       "1  2024-12-17         4.8  \n",
       "2  2025-02-01         4.8  \n",
       "3  2024-11-01         4.8  \n",
       "4  2024-12-11         4.8  "
      ]
     },
     "execution_count": 22,
     "metadata": {},
     "output_type": "execute_result"
    }
   ],
   "source": [
    "df.head()"
   ]
  },
  {
   "cell_type": "code",
   "execution_count": 23,
   "metadata": {},
   "outputs": [
    {
     "data": {
      "image/png": "[encoded data removed]",
      "text/plain": [
       "<Figure size 432x288 with 1 Axes>"
      ]
     },
     "metadata": {
      "needs_background": "light"
     },
     "output_type": "display_data"
    }
   ],
   "source": [
    "# Create a count plot to visualize the distribution of 'product_rating' values\n",
    "sns.countplot(data=df, x='product_rating')\n",
    "plt.show()"
   ]
  },
  {
   "cell_type": "code",
   "execution_count": 24,
   "metadata": {},
   "outputs": [],
   "source": [
    "# defining a function to clean raw text\n",
    "import re\n",
    "\n",
    "\n",
    "def clean_text(text):\n",
    "\n",
    "  # removing html tags \n",
    "  text = re.sub(r'<.*?>', '', text)\n",
    "\n",
    "  # remove urls\n",
    "  text = re.sub(r'http\\s+|www\\S+', '', text)\n",
    "\n",
    "  # removing non_alphabetic characters and converting to lowercase\n",
    "\n",
    "  text= re.sub(r'[^a-zA_Z\\s]', '', text.lower())\n",
    "\n",
    "  return text"
   ]
  },
  {
   "cell_type": "code",
   "execution_count": 25,
   "metadata": {},
   "outputs": [],
   "source": [
    "# Apply the clean_text function to each value in the 'review_text' column\n",
    "# Store the cleaned text in a new column called 'cleaned_reviews\n",
    "df['cleaned_reviews'] = df['review_text'].apply(clean_text)"
   ]
  },
  {
   "cell_type": "code",
   "execution_count": 26,
   "metadata": {},
   "outputs": [],
   "source": [
    "# initializing stopwords and lammetizer\n",
    "stopwords = set(stopwords.words('english'))\n",
    "lammatizer = WordNetLemmatizer()"
   ]
  },
  {
   "cell_type": "code",
   "execution_count": 27,
   "metadata": {},
   "outputs": [],
   "source": [
    "def preprocess_text(text):\n",
    "  \"\"\"\n",
    "  Tokenize cleaned text, remove stopwords and perform lammatization\n",
    "  \"\"\"\n",
    "\n",
    "  # Split the text into individual words (tokens)\n",
    "  tokens = text.split()\n",
    "\n",
    "  # Apply lemmatization to each word and remove stopwords\n",
    "  tokens = [lammatizer.lemmatize(word) for word in tokens if word not in stopwords]\n",
    "\n",
    "  # Join the processed words back into a single string\n",
    "  return ' '.join(tokens)"
   ]
  },
  {
   "cell_type": "code",
   "execution_count": 28,
   "metadata": {},
   "outputs": [],
   "source": [
    "# Apply the preprocess_text function to each value in the 'cleaned_reviews' column\n",
    "# Store the processed text in a new column called 'preprocessedText\n",
    "df['preprocessedText'] = df['cleaned_reviews'].apply(preprocess_text)"
   ]
  },
  {
   "cell_type": "code",
   "execution_count": 29,
   "metadata": {},
   "outputs": [],
   "source": [
    "# Join all the preprocessed text from the 'preprocessedText' column into a single string\n",
    "all_text = \" \".join(df['preprocessedText'])\n"
   ]
  },
  {
   "cell_type": "code",
   "execution_count": 30,
   "metadata": {},
   "outputs": [
    {
     "data": {
      "text/html": [
       "<div>\n",
       "<style scoped>\n",
       "    .dataframe tbody tr th:only-of-type {\n",
       "        vertical-align: middle;\n",
       "    }\n",
       "\n",
       "    .dataframe tbody tr th {\n",
       "        vertical-align: top;\n",
       "    }\n",
       "\n",
       "    .dataframe thead th {\n",
       "        text-align: right;\n",
       "    }\n",
       "</style>\n",
       "<table border=\"1\" class=\"dataframe\">\n",
       "  <thead>\n",
       "    <tr style=\"text-align: right;\">\n",
       "      <th></th>\n",
       "      <th>word</th>\n",
       "      <th>count</th>\n",
       "    </tr>\n",
       "  </thead>\n",
       "  <tbody>\n",
       "    <tr>\n",
       "      <th>0</th>\n",
       "      <td>one</td>\n",
       "      <td>1289</td>\n",
       "    </tr>\n",
       "    <tr>\n",
       "      <th>1</th>\n",
       "      <td>like</td>\n",
       "      <td>1262</td>\n",
       "    </tr>\n",
       "    <tr>\n",
       "      <th>2</th>\n",
       "      <td>love</td>\n",
       "      <td>1215</td>\n",
       "    </tr>\n",
       "    <tr>\n",
       "      <th>3</th>\n",
       "      <td>great</td>\n",
       "      <td>1198</td>\n",
       "    </tr>\n",
       "    <tr>\n",
       "      <th>4</th>\n",
       "      <td>size</td>\n",
       "      <td>1062</td>\n",
       "    </tr>\n",
       "  </tbody>\n",
       "</table>\n",
       "</div>"
      ],
      "text/plain": [
       "    word  count\n",
       "0    one   1289\n",
       "1   like   1262\n",
       "2   love   1215\n",
       "3  great   1198\n",
       "4   size   1062"
      ]
     },
     "execution_count": 30,
     "metadata": {},
     "output_type": "execute_result"
    }
   ],
   "source": [
    "# Split the joined text into individual words and count the frequency of each word\n",
    "word_count = Counter(all_text.split())\n",
    "\n",
    "# Get the 20 most common words along with their counts\n",
    "most_commons = word_count.most_common(20)\n",
    "# Creating dataframe for easy visualization\n",
    "\n",
    "most_common_df = pd.DataFrame(most_commons, columns=['word', 'count'])\n",
    "most_common_df.head()"
   ]
  },
  {
   "cell_type": "code",
   "execution_count": 31,
   "metadata": {},
   "outputs": [
    {
     "data": {
      "image/png": "[encoded data removed]",
      "text/plain": [
       "<Figure size 720x288 with 1 Axes>"
      ]
     },
     "metadata": {
      "needs_background": "light"
     },
     "output_type": "display_data"
    }
   ],
   "source": [
    "#visualization\n",
    "plt.figure(figsize=(10,4))\n",
    "sns.barplot(x='word', y = 'count' ,data = most_common_df)\n",
    "plt.xlabel(\"Frequency\")\n",
    "plt.ylabel(\"Word\")\n",
    "plt.title(\"Top 20 Most Common Words\")\n",
    "plt.tight_layout()\n",
    "plt.show()"
   ]
  },
  {
   "cell_type": "code",
   "execution_count": 32,
   "metadata": {},
   "outputs": [
    {
     "ename": "AttributeError",
     "evalue": "'TransposedFont' object has no attribute 'getbbox'",
     "output_type": "error",
     "traceback": [
      "\u001b[1;31m---------------------------------------------------------------------------\u001b[0m",
      "\u001b[1;31mAttributeError\u001b[0m                            Traceback (most recent call last)",
      "\u001b[1;32m<ipython-input-32-a107b8941898>\u001b[0m in \u001b[0;36m<module>\u001b[1;34m\u001b[0m\n\u001b[0;32m      2\u001b[0m \u001b[1;33m\u001b[0m\u001b[0m\n\u001b[0;32m      3\u001b[0m \u001b[1;31m# Generate the word cloud from the preprocessed text\u001b[0m\u001b[1;33m\u001b[0m\u001b[1;33m\u001b[0m\u001b[1;33m\u001b[0m\u001b[0m\n\u001b[1;32m----> 4\u001b[1;33m \u001b[0mwordcloud\u001b[0m \u001b[1;33m=\u001b[0m \u001b[0mWordCloud\u001b[0m\u001b[1;33m(\u001b[0m\u001b[0mwidth\u001b[0m\u001b[1;33m=\u001b[0m\u001b[1;36m800\u001b[0m\u001b[1;33m,\u001b[0m \u001b[0mheight\u001b[0m\u001b[1;33m=\u001b[0m\u001b[1;36m400\u001b[0m\u001b[1;33m,\u001b[0m \u001b[0mbackground_color\u001b[0m\u001b[1;33m=\u001b[0m\u001b[1;34m'white'\u001b[0m\u001b[1;33m)\u001b[0m\u001b[1;33m.\u001b[0m\u001b[0mgenerate\u001b[0m\u001b[1;33m(\u001b[0m\u001b[0mall_text\u001b[0m\u001b[1;33m)\u001b[0m\u001b[1;33m\u001b[0m\u001b[1;33m\u001b[0m\u001b[0m\n\u001b[0m\u001b[0;32m      5\u001b[0m \u001b[0mplt\u001b[0m\u001b[1;33m.\u001b[0m\u001b[0mfigure\u001b[0m\u001b[1;33m(\u001b[0m\u001b[0mfigsize\u001b[0m\u001b[1;33m=\u001b[0m\u001b[1;33m(\u001b[0m\u001b[1;36m10\u001b[0m\u001b[1;33m,\u001b[0m\u001b[1;36m6\u001b[0m\u001b[1;33m)\u001b[0m\u001b[1;33m)\u001b[0m\u001b[1;33m\u001b[0m\u001b[1;33m\u001b[0m\u001b[0m\n\u001b[0;32m      6\u001b[0m \u001b[1;31m# Display the word cloud image with bilinear interpolation for smoothness\u001b[0m\u001b[1;33m\u001b[0m\u001b[1;33m\u001b[0m\u001b[1;33m\u001b[0m\u001b[0m\n",
      "\u001b[1;32m~\\anaconda3\\envs\\learn-env\\lib\\site-packages\\wordcloud\\wordcloud.py\u001b[0m in \u001b[0;36mgenerate\u001b[1;34m(self, text)\u001b[0m\n\u001b[0;32m    640\u001b[0m         \u001b[0mself\u001b[0m\u001b[1;33m\u001b[0m\u001b[1;33m\u001b[0m\u001b[0m\n\u001b[0;32m    641\u001b[0m         \"\"\"\n\u001b[1;32m--> 642\u001b[1;33m         \u001b[1;32mreturn\u001b[0m \u001b[0mself\u001b[0m\u001b[1;33m.\u001b[0m\u001b[0mgenerate_from_text\u001b[0m\u001b[1;33m(\u001b[0m\u001b[0mtext\u001b[0m\u001b[1;33m)\u001b[0m\u001b[1;33m\u001b[0m\u001b[1;33m\u001b[0m\u001b[0m\n\u001b[0m\u001b[0;32m    643\u001b[0m \u001b[1;33m\u001b[0m\u001b[0m\n\u001b[0;32m    644\u001b[0m     \u001b[1;32mdef\u001b[0m \u001b[0m_check_generated\u001b[0m\u001b[1;33m(\u001b[0m\u001b[0mself\u001b[0m\u001b[1;33m)\u001b[0m\u001b[1;33m:\u001b[0m\u001b[1;33m\u001b[0m\u001b[1;33m\u001b[0m\u001b[0m\n",
      "\u001b[1;32m~\\anaconda3\\envs\\learn-env\\lib\\site-packages\\wordcloud\\wordcloud.py\u001b[0m in \u001b[0;36mgenerate_from_text\u001b[1;34m(self, text)\u001b[0m\n\u001b[0;32m    622\u001b[0m         \"\"\"\n\u001b[0;32m    623\u001b[0m         \u001b[0mwords\u001b[0m \u001b[1;33m=\u001b[0m \u001b[0mself\u001b[0m\u001b[1;33m.\u001b[0m\u001b[0mprocess_text\u001b[0m\u001b[1;33m(\u001b[0m\u001b[0mtext\u001b[0m\u001b[1;33m)\u001b[0m\u001b[1;33m\u001b[0m\u001b[1;33m\u001b[0m\u001b[0m\n\u001b[1;32m--> 624\u001b[1;33m         \u001b[0mself\u001b[0m\u001b[1;33m.\u001b[0m\u001b[0mgenerate_from_frequencies\u001b[0m\u001b[1;33m(\u001b[0m\u001b[0mwords\u001b[0m\u001b[1;33m)\u001b[0m\u001b[1;33m\u001b[0m\u001b[1;33m\u001b[0m\u001b[0m\n\u001b[0m\u001b[0;32m    625\u001b[0m         \u001b[1;32mreturn\u001b[0m \u001b[0mself\u001b[0m\u001b[1;33m\u001b[0m\u001b[1;33m\u001b[0m\u001b[0m\n\u001b[0;32m    626\u001b[0m \u001b[1;33m\u001b[0m\u001b[0m\n",
      "\u001b[1;32m~\\anaconda3\\envs\\learn-env\\lib\\site-packages\\wordcloud\\wordcloud.py\u001b[0m in \u001b[0;36mgenerate_from_frequencies\u001b[1;34m(self, frequencies, max_font_size)\u001b[0m\n\u001b[0;32m    451\u001b[0m                 \u001b[0mfont_size\u001b[0m \u001b[1;33m=\u001b[0m \u001b[0mself\u001b[0m\u001b[1;33m.\u001b[0m\u001b[0mheight\u001b[0m\u001b[1;33m\u001b[0m\u001b[1;33m\u001b[0m\u001b[0m\n\u001b[0;32m    452\u001b[0m             \u001b[1;32melse\u001b[0m\u001b[1;33m:\u001b[0m\u001b[1;33m\u001b[0m\u001b[1;33m\u001b[0m\u001b[0m\n\u001b[1;32m--> 453\u001b[1;33m                 self.generate_from_frequencies(dict(frequencies[:2]),\n\u001b[0m\u001b[0;32m    454\u001b[0m                                                max_font_size=self.height)\n\u001b[0;32m    455\u001b[0m                 \u001b[1;31m# find font sizes\u001b[0m\u001b[1;33m\u001b[0m\u001b[1;33m\u001b[0m\u001b[1;33m\u001b[0m\u001b[0m\n",
      "\u001b[1;32m~\\anaconda3\\envs\\learn-env\\lib\\site-packages\\wordcloud\\wordcloud.py\u001b[0m in \u001b[0;36mgenerate_from_frequencies\u001b[1;34m(self, frequencies, max_font_size)\u001b[0m\n\u001b[0;32m    509\u001b[0m                     font, orientation=orientation)\n\u001b[0;32m    510\u001b[0m                 \u001b[1;31m# get size of resulting text\u001b[0m\u001b[1;33m\u001b[0m\u001b[1;33m\u001b[0m\u001b[1;33m\u001b[0m\u001b[0m\n\u001b[1;32m--> 511\u001b[1;33m                 \u001b[0mbox_size\u001b[0m \u001b[1;33m=\u001b[0m \u001b[0mdraw\u001b[0m\u001b[1;33m.\u001b[0m\u001b[0mtextbbox\u001b[0m\u001b[1;33m(\u001b[0m\u001b[1;33m(\u001b[0m\u001b[1;36m0\u001b[0m\u001b[1;33m,\u001b[0m \u001b[1;36m0\u001b[0m\u001b[1;33m)\u001b[0m\u001b[1;33m,\u001b[0m \u001b[0mword\u001b[0m\u001b[1;33m,\u001b[0m \u001b[0mfont\u001b[0m\u001b[1;33m=\u001b[0m\u001b[0mtransposed_font\u001b[0m\u001b[1;33m,\u001b[0m \u001b[0manchor\u001b[0m\u001b[1;33m=\u001b[0m\u001b[1;34m\"lt\"\u001b[0m\u001b[1;33m)\u001b[0m\u001b[1;33m\u001b[0m\u001b[1;33m\u001b[0m\u001b[0m\n\u001b[0m\u001b[0;32m    512\u001b[0m                 \u001b[1;31m# find possible places using integral image:\u001b[0m\u001b[1;33m\u001b[0m\u001b[1;33m\u001b[0m\u001b[1;33m\u001b[0m\u001b[0m\n\u001b[0;32m    513\u001b[0m                 result = occupancy.sample_position(box_size[3] + self.margin,\n",
      "\u001b[1;32m~\\anaconda3\\envs\\learn-env\\lib\\site-packages\\PIL\\ImageDraw.py\u001b[0m in \u001b[0;36mtextbbox\u001b[1;34m(self, xy, text, font, anchor, spacing, align, direction, features, language, stroke_width, embedded_color)\u001b[0m\n\u001b[0;32m    565\u001b[0m             \u001b[0mfont\u001b[0m \u001b[1;33m=\u001b[0m \u001b[0mself\u001b[0m\u001b[1;33m.\u001b[0m\u001b[0mgetfont\u001b[0m\u001b[1;33m(\u001b[0m\u001b[1;33m)\u001b[0m\u001b[1;33m\u001b[0m\u001b[1;33m\u001b[0m\u001b[0m\n\u001b[0;32m    566\u001b[0m         \u001b[0mmode\u001b[0m \u001b[1;33m=\u001b[0m \u001b[1;34m\"RGBA\"\u001b[0m \u001b[1;32mif\u001b[0m \u001b[0membedded_color\u001b[0m \u001b[1;32melse\u001b[0m \u001b[0mself\u001b[0m\u001b[1;33m.\u001b[0m\u001b[0mfontmode\u001b[0m\u001b[1;33m\u001b[0m\u001b[1;33m\u001b[0m\u001b[0m\n\u001b[1;32m--> 567\u001b[1;33m         bbox = font.getbbox(\n\u001b[0m\u001b[0;32m    568\u001b[0m             \u001b[0mtext\u001b[0m\u001b[1;33m,\u001b[0m \u001b[0mmode\u001b[0m\u001b[1;33m,\u001b[0m \u001b[0mdirection\u001b[0m\u001b[1;33m,\u001b[0m \u001b[0mfeatures\u001b[0m\u001b[1;33m,\u001b[0m \u001b[0mlanguage\u001b[0m\u001b[1;33m,\u001b[0m \u001b[0mstroke_width\u001b[0m\u001b[1;33m,\u001b[0m \u001b[0manchor\u001b[0m\u001b[1;33m\u001b[0m\u001b[1;33m\u001b[0m\u001b[0m\n\u001b[0;32m    569\u001b[0m         )\n",
      "\u001b[1;31mAttributeError\u001b[0m: 'TransposedFont' object has no attribute 'getbbox'"
     ]
    }
   ],
   "source": [
    "from wordcloud import WordCloud\n",
    "\n",
    "# Generate the word cloud from the preprocessed text\n",
    "wordcloud = WordCloud(width=800, height=400, background_color='white').generate(all_text)\n",
    "plt.figure(figsize=(10,6))\n",
    "# Display the word cloud image with bilinear interpolation for smoothness\n",
    "plt.imshow(wordcloud, interpolation='bilinear')\n",
    "plt.axis('off')\n",
    "plt.show()"
   ]
  },
  {
   "cell_type": "code",
   "execution_count": 33,
   "metadata": {},
   "outputs": [],
   "source": [
    "# Create a new column 'review_length' that stores the number of words in each review\n",
    "df['review_length'] = df['review_text'].apply(lambda x:len(x.split()))"
   ]
  },
  {
   "cell_type": "code",
   "execution_count": 34,
   "metadata": {},
   "outputs": [
    {
     "data": {
      "image/png": "[encoded data removed]",
      "text/plain": [
       "<Figure size 432x288 with 1 Axes>"
      ]
     },
     "metadata": {
      "needs_background": "light"
     },
     "output_type": "display_data"
    }
   ],
   "source": [
    "# Create a histogram to visualize the distribution of review lengths\n",
    "plt.hist(df[\"review_length\"], bins=100, color=\"skyblue\", edgecolor=\"black\")\n",
    "plt.xlabel(\"Review Length (words)\")\n",
    "plt.ylabel(\"Frequency\")\n",
    "plt.title(\"Distribution of Review Lengths\")\n",
    "plt.show()"
   ]
  },
  {
   "cell_type": "code",
   "execution_count": 35,
   "metadata": {},
   "outputs": [
    {
     "name": "stderr",
     "output_type": "stream",
     "text": [
      "<ipython-input-35-335868f484a0>:14: SettingWithCopyWarning: \n",
      "A value is trying to be set on a copy of a slice from a DataFrame.\n",
      "Try using .loc[row_indexer,col_indexer] = value instead\n",
      "\n",
      "See the caveats in the documentation: https://pandas.pydata.org/pandas-docs/stable/user_guide/indexing.html#returning-a-view-versus-a-copy\n",
      "  df_filtered[\"year_month\"] = df_filtered[\"review_date\"].dt.to_period(\"M\")\n"
     ]
    },
    {
     "data": {
      "image/png": "[encoded data removed]",
      "text/plain": [
       "<Figure size 720x360 with 1 Axes>"
      ]
     },
     "metadata": {
      "needs_background": "light"
     },
     "output_type": "display_data"
    }
   ],
   "source": [
    "# Convert review_date to datetime format\n",
    "df[\"review_date\"] = pd.to_datetime(df[\"review_date\"])\n",
    "\n",
    "# Define the valid year range\n",
    "min_year = 2020\n",
    "max_year = 2025\n",
    "\n",
    "# Extract year and filter data\n",
    "df[\"year\"] = df[\"review_date\"].dt.year\n",
    "df_filtered = df[(df[\"year\"] >= min_year) & (df[\"year\"] <= max_year)]\n",
    "\n",
    "# Extract year-month for\n",
    "# Extract year-month for grouping\n",
    "df_filtered[\"year_month\"] = df_filtered[\"review_date\"].dt.to_period(\"M\")\n",
    "\n",
    "# Count reviews per month\n",
    "reviews_per_month = df_filtered[\"year_month\"].value_counts().sort_index()\n",
    "\n",
    "# Plot the line graph\n",
    "plt.figure(figsize=(10,5))\n",
    "plt.plot(reviews_per_month.index.astype(str), reviews_per_month.values, linestyle=\"-\", color=\"b\")\n",
    "\n",
    "# Formatting\n",
    "plt.xticks(rotation=90)\n",
    "plt.xlabel(\"Month\")\n",
    "plt.ylabel(\"Number of Reviews\")\n",
    "plt.title(\"Number of Reviews Over Time (Filtered by Year)\")\n",
    "plt.grid(True)\n",
    "\n",
    "# Show plot\n",
    "plt.show()"
   ]
  },
  {
   "cell_type": "code",
   "execution_count": 36,
   "metadata": {},
   "outputs": [
    {
     "data": {
      "image/png": "[encoded data removed]",
      "text/plain": [
       "<Figure size 720x360 with 1 Axes>"
      ]
     },
     "metadata": {
      "needs_background": "light"
     },
     "output_type": "display_data"
    }
   ],
   "source": [
    "# Compute average rating per year\n",
    "avg_rating_per_year = df_filtered.groupby(\"year\")[\"product_rating\"].mean()\n",
    "\n",
    "# Plot rating trends over time\n",
    "plt.figure(figsize=(10,5))\n",
    "plt.plot(avg_rating_per_year.index, avg_rating_per_year.values, marker=\"o\", linestyle=\"-\", color=\"r\")\n",
    "plt.xlabel(\"Year\")\n",
    "plt.ylabel(\"Average Rating\")\n",
    "plt.title(\"Trend of Average Ratings Over the Years\")\n",
    "plt.grid(True)\n",
    "plt.show()"
   ]
  },
  {
   "cell_type": "code",
   "execution_count": 37,
   "metadata": {},
   "outputs": [
    {
     "name": "stderr",
     "output_type": "stream",
     "text": [
      "<ipython-input-37-6f1fa0939dc6>:2: SettingWithCopyWarning: \n",
      "A value is trying to be set on a copy of a slice from a DataFrame.\n",
      "Try using .loc[row_indexer,col_indexer] = value instead\n",
      "\n",
      "See the caveats in the documentation: https://pandas.pydata.org/pandas-docs/stable/user_guide/indexing.html#returning-a-view-versus-a-copy\n",
      "  df_filtered[\"product_rating\"] = pd.to_numeric(df_filtered[\"product_rating\"], errors='coerce')\n"
     ]
    },
    {
     "data": {
      "image/png": "[encoded data removed]",
      "text/plain": [
       "<Figure size 720x360 with 1 Axes>"
      ]
     },
     "metadata": {
      "needs_background": "light"
     },
     "output_type": "display_data"
    }
   ],
   "source": [
    "# Ensure product_rating is numeric\n",
    "df_filtered[\"product_rating\"] = pd.to_numeric(df_filtered[\"product_rating\"], errors='coerce')\n",
    "\n",
    "# Plot trends for each rating (1-5 stars) on the same figure\n",
    "plt.figure(figsize=(10,5))\n",
    "colors = ['r', 'g', 'b', 'y', 'c']\n",
    "for rating, color in zip(range(1, 6), colors):\n",
    "    rating_trend = df_filtered[df_filtered[\"product_rating\"] == rating].groupby(\"year\").size()\n",
    "    plt.plot(rating_trend.index, rating_trend.values, marker=\"o\", linestyle=\"-\", label=f\"Rating {rating}\", color=color)\n",
    "\n",
    "plt.xlabel(\"Year\")\n",
    "plt.ylabel(\"Number of Reviews\")\n",
    "plt.title(\"Trends of Each Rating Over the Years\")\n",
    "plt.legend()\n",
    "plt.grid(True)\n",
    "plt.show()"
   ]
  },
  {
   "cell_type": "markdown",
   "metadata": {},
   "source": [
    "modelling"
   ]
  },
  {
   "cell_type": "code",
   "execution_count": 38,
   "metadata": {},
   "outputs": [
    {
     "name": "stdout",
     "output_type": "stream",
     "text": [
      "Sentiment analysis completed and saved to 'Data/sentiment_computer_reviews.csv'\n",
      "Sentiment analysis completed and saved to 'Data/sentiment_Fridge_reviews.csv'\n",
      "Sentiment analysis completed and saved to 'Data/sentiment_hoodie_reviews.csv'\n",
      "Sentiment analysis completed and saved to 'Data/sentiment_parfum_reviews.csv'\n",
      "Sentiment analysis completed and saved to 'Data/sentiment_Playstation_reviews.csv'\n",
      "Sentiment analysis completed and saved to 'Data/sentiment_shoes_reviews.csv'\n",
      "Sentiment analysis completed and saved to 'Data/sentiment_toy_reviews.csv'\n",
      "Sentiment analysis completed and saved to 'Data/sentiment_Water_reviews.csv'\n",
      "Sentiment analysis completed and saved to 'Data/sentiment_Xbox_reviews.csv'\n"
     ]
    }
   ],
   "source": [
    "import pandas as pd\n",
    "import os\n",
    "from vaderSentiment.vaderSentiment import SentimentIntensityAnalyzer\n",
    "\n",
    "# Directory containing CSV files\n",
    "data_dir = \"Data/\"\n",
    "csv_files = [\n",
    "    \"computer_reviews.csv\", \"Fridge_reviews.csv\", \"hoodie_reviews.csv\", \"parfum_reviews.csv\", \n",
    "    \"Playstation_reviews.csv\", \"shoes_reviews.csv\", \"toy_reviews.csv\", \"Water_reviews.csv\", \"Xbox_reviews.csv\"\n",
    "]\n",
    "\n",
    "# Initialize VADER Sentiment Analyzer\n",
    "analyzer = SentimentIntensityAnalyzer()\n",
    "\n",
    "# Function to calculate sentiment\n",
    "def get_sentiment(text):\n",
    "    sentiment = analyzer.polarity_scores(str(text))  # Convert text to string to avoid errors\n",
    "    return sentiment['compound']\n",
    "\n",
    "# Classify overall sentiment based on the compound score\n",
    "def classify_sentiment(score):\n",
    "    if score >= 0.05:\n",
    "        return 'Positive'\n",
    "    elif score <= -0.05:\n",
    "        return 'Negative'\n",
    "    else:\n",
    "        return 'Neutral'\n",
    "\n",
    "# Iterate through each CSV file and apply sentiment analysis\n",
    "for file in csv_files:\n",
    "    file_path = os.path.join(data_dir, file)\n",
    "    if os.path.exists(file_path):\n",
    "        df = pd.read_csv(file_path)\n",
    "\n",
    "        # Apply sentiment analysis to the 'review_text' column\n",
    "        df['compound_score'] = df['review_text'].apply(get_sentiment)\n",
    "        df['sentiment'] = df['compound_score'].apply(classify_sentiment)\n",
    "\n",
    "        # Save the updated DataFrame to a new CSV\n",
    "        output_path = os.path.join(data_dir, f\"sentiment_{file}\")\n",
    "        df.to_csv(output_path, index=False)\n",
    "\n",
    "        print(f\"Sentiment analysis completed and saved to '{output_path}'\")\n",
    "    else:\n",
    "        print(f\"File '{file_path}' not found.\")\n"
   ]
  },
  {
   "cell_type": "code",
   "execution_count": 39,
   "metadata": {},
   "outputs": [
    {
     "data": {
      "text/html": [
       "<div>\n",
       "<style scoped>\n",
       "    .dataframe tbody tr th:only-of-type {\n",
       "        vertical-align: middle;\n",
       "    }\n",
       "\n",
       "    .dataframe tbody tr th {\n",
       "        vertical-align: top;\n",
       "    }\n",
       "\n",
       "    .dataframe thead th {\n",
       "        text-align: right;\n",
       "    }\n",
       "</style>\n",
       "<table border=\"1\" class=\"dataframe\">\n",
       "  <thead>\n",
       "    <tr style=\"text-align: right;\">\n",
       "      <th></th>\n",
       "      <th>Product</th>\n",
       "      <th>Positive</th>\n",
       "      <th>Neutral</th>\n",
       "      <th>Negative</th>\n",
       "      <th>Pie_Chart</th>\n",
       "    </tr>\n",
       "  </thead>\n",
       "  <tbody>\n",
       "    <tr>\n",
       "      <th>0</th>\n",
       "      <td>sentiment_computer_reviews</td>\n",
       "      <td>215</td>\n",
       "      <td>45</td>\n",
       "      <td>106</td>\n",
       "      <td>sentiment_computer_reviews_pie_chart.png</td>\n",
       "    </tr>\n",
       "    <tr>\n",
       "      <th>1</th>\n",
       "      <td>sentiment_Fridge_reviews</td>\n",
       "      <td>563</td>\n",
       "      <td>48</td>\n",
       "      <td>189</td>\n",
       "      <td>sentiment_Fridge_reviews_pie_chart.png</td>\n",
       "    </tr>\n",
       "    <tr>\n",
       "      <th>2</th>\n",
       "      <td>sentiment_hoodie_reviews</td>\n",
       "      <td>906</td>\n",
       "      <td>37</td>\n",
       "      <td>106</td>\n",
       "      <td>sentiment_hoodie_reviews_pie_chart.png</td>\n",
       "    </tr>\n",
       "    <tr>\n",
       "      <th>3</th>\n",
       "      <td>sentiment_parfum_reviews</td>\n",
       "      <td>489</td>\n",
       "      <td>32</td>\n",
       "      <td>145</td>\n",
       "      <td>sentiment_parfum_reviews_pie_chart.png</td>\n",
       "    </tr>\n",
       "    <tr>\n",
       "      <th>4</th>\n",
       "      <td>sentiment_Playstation_reviews</td>\n",
       "      <td>522</td>\n",
       "      <td>80</td>\n",
       "      <td>190</td>\n",
       "      <td>sentiment_Playstation_reviews_pie_chart.png</td>\n",
       "    </tr>\n",
       "    <tr>\n",
       "      <th>5</th>\n",
       "      <td>sentiment_shoes_reviews</td>\n",
       "      <td>785</td>\n",
       "      <td>31</td>\n",
       "      <td>101</td>\n",
       "      <td>sentiment_shoes_reviews_pie_chart.png</td>\n",
       "    </tr>\n",
       "    <tr>\n",
       "      <th>6</th>\n",
       "      <td>sentiment_toy_reviews</td>\n",
       "      <td>380</td>\n",
       "      <td>19</td>\n",
       "      <td>40</td>\n",
       "      <td>sentiment_toy_reviews_pie_chart.png</td>\n",
       "    </tr>\n",
       "    <tr>\n",
       "      <th>7</th>\n",
       "      <td>sentiment_Water_reviews</td>\n",
       "      <td>394</td>\n",
       "      <td>88</td>\n",
       "      <td>210</td>\n",
       "      <td>sentiment_Water_reviews_pie_chart.png</td>\n",
       "    </tr>\n",
       "    <tr>\n",
       "      <th>8</th>\n",
       "      <td>sentiment_Xbox_reviews</td>\n",
       "      <td>805</td>\n",
       "      <td>192</td>\n",
       "      <td>377</td>\n",
       "      <td>sentiment_Xbox_reviews_pie_chart.png</td>\n",
       "    </tr>\n",
       "  </tbody>\n",
       "</table>\n",
       "</div>"
      ],
      "text/plain": [
       "                         Product  Positive  Neutral  Negative  \\\n",
       "0     sentiment_computer_reviews       215       45       106   \n",
       "1       sentiment_Fridge_reviews       563       48       189   \n",
       "2       sentiment_hoodie_reviews       906       37       106   \n",
       "3       sentiment_parfum_reviews       489       32       145   \n",
       "4  sentiment_Playstation_reviews       522       80       190   \n",
       "5        sentiment_shoes_reviews       785       31       101   \n",
       "6          sentiment_toy_reviews       380       19        40   \n",
       "7        sentiment_Water_reviews       394       88       210   \n",
       "8         sentiment_Xbox_reviews       805      192       377   \n",
       "\n",
       "                                     Pie_Chart  \n",
       "0     sentiment_computer_reviews_pie_chart.png  \n",
       "1       sentiment_Fridge_reviews_pie_chart.png  \n",
       "2       sentiment_hoodie_reviews_pie_chart.png  \n",
       "3       sentiment_parfum_reviews_pie_chart.png  \n",
       "4  sentiment_Playstation_reviews_pie_chart.png  \n",
       "5        sentiment_shoes_reviews_pie_chart.png  \n",
       "6          sentiment_toy_reviews_pie_chart.png  \n",
       "7        sentiment_Water_reviews_pie_chart.png  \n",
       "8         sentiment_Xbox_reviews_pie_chart.png  "
      ]
     },
     "metadata": {},
     "output_type": "display_data"
    },
    {
     "name": "stdout",
     "output_type": "stream",
     "text": [
      "Sentiment summary with pie chart references saved to 'Data/sentiment_summary_with_pie_charts.csv'\n"
     ]
    }
   ],
   "source": [
    "import pandas as pd\n",
    "import os\n",
    "import matplotlib.pyplot as plt\n",
    "from IPython.display import display\n",
    "\n",
    "# Directory containing the sentiment CSV files\n",
    "data_dir = \"Data/\"\n",
    "csv_files = [\n",
    "    \"sentiment_computer_reviews.csv\", \"sentiment_Fridge_reviews.csv\", \"sentiment_hoodie_reviews.csv\", \n",
    "    \"sentiment_parfum_reviews.csv\", \"sentiment_Playstation_reviews.csv\", \"sentiment_shoes_reviews.csv\", \n",
    "    \"sentiment_toy_reviews.csv\", \"sentiment_Water_reviews.csv\", \"sentiment_Xbox_reviews.csv\"\n",
    "]\n",
    "\n",
    "# Initialize an empty list to store sentiment counts\n",
    "sentiment_summary = []\n",
    "\n",
    "# Loop through each CSV file and count sentiment types\n",
    "for file in csv_files:\n",
    "    file_path = os.path.join(data_dir, file)\n",
    "    if os.path.exists(file_path):\n",
    "        df = pd.read_csv(file_path)\n",
    "        if 'sentiment' in df.columns:\n",
    "            sentiment_counts = df['sentiment'].value_counts()\n",
    "            product_name = os.path.splitext(file)[0]\n",
    "            \n",
    "            # Add sentiment counts and pie chart path\n",
    "            pie_chart_path = f\"{product_name}_pie_chart.png\"\n",
    "            sentiment_summary.append({\n",
    "                'Product': product_name,\n",
    "                'Positive': sentiment_counts.get('Positive', 0),\n",
    "                'Neutral': sentiment_counts.get('Neutral', 0),\n",
    "                'Negative': sentiment_counts.get('Negative', 0),\n",
    "                'Pie_Chart': pie_chart_path\n",
    "            })\n",
    "\n",
    "            # Generate and save pie chart\n",
    "            plt.figure(figsize=(6, 6))\n",
    "            sentiment_counts.plot.pie(autopct='%1.1f%%', colors=['#9CDEB7', '#F6846F', '#FFEB66'], startangle=90)\n",
    "            plt.title(f'Sentiment Distribution for {product_name}')\n",
    "            plt.ylabel('')  # Hide the y-axis label\n",
    "            plt.tight_layout()\n",
    "            plt.savefig(os.path.join(data_dir, pie_chart_path))\n",
    "            plt.close()\n",
    "\n",
    "# Convert the summary list to a DataFrame\n",
    "summary_df = pd.DataFrame(sentiment_summary)\n",
    "\n",
    "# Display the summary table in the notebook\n",
    "display(summary_df)\n",
    "\n",
    "# Save the summary table to a CSV file\n",
    "#summary_csv_path = os.path.join(data_dir, 'sentiment_summary_with_pie_charts.csv')\n",
    "#summary_df.to_csv(summary_csv_path, index=False)\n",
    "\n",
    "#print(f\"Sentiment summary with pie chart references saved to '{summary_csv_path}'\")\n"
   ]
  },
  {
   "cell_type": "code",
   "execution_count": 42,
   "metadata": {},
   "outputs": [
    {
     "data": {
      "image/png": "[encoded data removed]",
      "text/plain": [
       "<Figure size 432x432 with 1 Axes>"
      ]
     },
     "metadata": {},
     "output_type": "display_data"
    },
    {
     "name": "stdout",
     "output_type": "stream",
     "text": [
      "Overall sentiment plot saved as 'Data/overall_sentiment_distribution.png'\n"
     ]
    }
   ],
   "source": [
    "# Plot a pie chart for overall sentiment distribution\n",
    "total_sentiments = summary_df[['Positive', 'Neutral', 'Negative']].sum()\n",
    "\n",
    "plt.figure(figsize=(6, 6))\n",
    "total_sentiments.plot.pie(autopct='%1.1f%%', colors=['#4CAF50', '#FFC107', '#F44336'], startangle=90, legend=False)\n",
    "plt.title('Overall Sentiment Distribution of Walmart Reviews')\n",
    "plt.ylabel('')  # Hide the y-axis label for cleaner presentation\n",
    "plt.tight_layout()\n",
    "\n",
    "# Save the plot as a PNG image\n",
    "plot_filename = \"overall_sentiment_distribution.png\"\n",
    "plot_path = os.path.join(data_dir, plot_filename)\n",
    "\n",
    "plt.show()\n",
    "\n",
    "\n"
   ]
  },
  {
   "cell_type": "code",
   "execution_count": 41,
   "metadata": {},
   "outputs": [
    {
     "data": {
      "image/png": "[encoded data removed]",
      "text/plain": [
       "<Figure size 720x432 with 1 Axes>"
      ]
     },
     "metadata": {
      "needs_background": "light"
     },
     "output_type": "display_data"
    }
   ],
   "source": [
    "# ========================\n",
    "# 1️⃣ Bar Plot (Grouped)\n",
    "# ========================\n",
    "summary_df.set_index('Product')[['Positive', 'Neutral', 'Negative']].plot(\n",
    "    kind='bar', figsize=(10, 6), color=['#4CAF50', '#FFC107', '#F44336']\n",
    ")\n",
    "plt.title('Sentiment Distribution by Product (Grouped Bar Chart)')\n",
    "plt.xlabel('Product')\n",
    "plt.ylabel('Count')\n",
    "plt.legend(loc='upper right')\n",
    "plt.grid(True)\n",
    "plt.tight_layout()\n",
    "\n",
    "plt.show()"
   ]
  }
 ],
 "metadata": {
  "kernelspec": {
   "display_name": "Python 3",
   "language": "python",
   "name": "python3"
  },
  "language_info": {
   "codemirror_mode": {
    "name": "ipython",
    "version": 3
   },
   "file_extension": ".py",
   "mimetype": "text/x-python",
   "name": "python",
   "nbconvert_exporter": "python",
   "pygments_lexer": "ipython3",
   "version": "3.8.5"
  }
 },
 "nbformat": 4,
 "nbformat_minor": 2
}
